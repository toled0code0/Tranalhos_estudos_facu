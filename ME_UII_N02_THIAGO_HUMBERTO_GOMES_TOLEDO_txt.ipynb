{
  "nbformat": 4,
  "nbformat_minor": 0,
  "metadata": {
    "colab": {
      "provenance": [],
      "include_colab_link": true
    },
    "kernelspec": {
      "name": "python3",
      "display_name": "Python 3"
    },
    "language_info": {
      "name": "python"
    }
  },
  "cells": [
    {
      "cell_type": "markdown",
      "metadata": {
        "id": "view-in-github",
        "colab_type": "text"
      },
      "source": [
        "<a href=\"https://colab.research.google.com/github/toled0code0/Tranalhos_estudos_facu/blob/main/ME_UII_N02_THIAGO_HUMBERTO_GOMES_TOLEDO_txt.ipynb\" target=\"_parent\"><img src=\"https://colab.research.google.com/assets/colab-badge.svg\" alt=\"Open In Colab\"/></a>"
      ]
    },
    {
      "cell_type": "markdown",
      "source": [
        "## 1 Questao"
      ],
      "metadata": {
        "id": "j0JSdd-2KfgN"
      }
    },
    {
      "cell_type": "code",
      "execution_count": null,
      "metadata": {
        "colab": {
          "base_uri": "https://localhost:8080/"
        },
        "id": "PTcqJJTEDHDV",
        "outputId": "a2f038dc-af6a-4108-d2f3-919bc0e86b1b"
      },
      "outputs": [
        {
          "output_type": "stream",
          "name": "stdout",
          "text": [
            "A quantidade de graos que devera ser pago ao monge: 18446744073709551616\n"
          ]
        }
      ],
      "source": [
        "graos = 1\n",
        "for i in range(64):\n",
        "  graos = graos*2\n",
        "print('A quantidade de graos que devera ser pago ao monge:', graos)"
      ]
    },
    {
      "cell_type": "markdown",
      "source": [
        "## 2 Questao\n"
      ],
      "metadata": {
        "id": "Na81qqZoFzA9"
      }
    },
    {
      "cell_type": "code",
      "source": [
        "rato = [1924,1936,1948,1960,1972,1984,1996,2008,2020]\n",
        "boi = [1925,1937,1949,1961,1973,1985,1997,2009,2021]\n",
        "tigre = [1926,1938,1950,1962,1974,1986,1998,2010,2022]\n",
        "coelho = [1927,1939,1951,1963,1975,1987,1999,2011,2023]\n",
        "dragao = [1928,1940,1952,1964,1976,1988,2000,2012,2024]\n",
        "serpente = [1929,1941,1953,1965,1977,1989,2001,2013,2025]\n",
        "cavalo = [1930,1942,1954,1966,1978,1990,2002,2014,2026]\n",
        "cabra = [1931,1943,1955,1967,1979,1991,2003,2015,2027]\n",
        "macaco = [1932,1944,1956,1968,1980,1992,2004,2016,2028]\n",
        "galo = [1933,1945,1957,1969,1981,1993,2005,2017,2029]\n",
        "cachorro = [1934,1946,1958,1970,1982,1994,2006,2018,2030]\n",
        "porco = [1935,1947,1959,1971,1983,1995,2007,2019,2031]\n",
        "\n",
        "usuario = int(input('informe o ano de nascimento: '))\n",
        "\n",
        "if usuario in rato:\n",
        "  print('Signo Rato')\n",
        "elif usuario in boi:\n",
        "  print('Signo Boi')\n",
        "elif usuario in tigre:\n",
        "  print('Signo Tigre')\n",
        "elif usuario in coelho:\n",
        "  print('Signo Coelho')\n",
        "elif usuario in dragao:\n",
        "  print('Signo Dragao')\n",
        "elif usuario in serpente:\n",
        "  print('Signo Serpente')\n",
        "elif usuario in cavalo:\n",
        "  print('Signo Cavalo')\n",
        "elif usuario in cabra:\n",
        "  print('Signo Cabra')\n",
        "elif usuario in macaco:\n",
        "  print('Signo Macaco')\n",
        "elif usuario in galo:\n",
        "  print('Signo Galo')\n",
        "elif usuario in cachorro:\n",
        "  print('Signo Cachorro')\n",
        "else:\n",
        "  print('Signo Porco')"
      ],
      "metadata": {
        "colab": {
          "base_uri": "https://localhost:8080/"
        },
        "id": "hA-6KlIzFzdk",
        "outputId": "6bb02986-543d-427a-a3fe-d0c62cfd482a"
      },
      "execution_count": null,
      "outputs": [
        {
          "output_type": "stream",
          "name": "stdout",
          "text": [
            "informe o ano de nascimento: 2031\n",
            "Signo Porco\n"
          ]
        }
      ]
    }
  ]
}