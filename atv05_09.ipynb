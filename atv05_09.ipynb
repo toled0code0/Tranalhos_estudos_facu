{
  "nbformat": 4,
  "nbformat_minor": 0,
  "metadata": {
    "colab": {
      "provenance": [],
      "collapsed_sections": [],
      "authorship_tag": "ABX9TyNzIP1XUgRjeQN8Fd0wPBWB",
      "include_colab_link": true
    },
    "kernelspec": {
      "name": "python3",
      "display_name": "Python 3"
    },
    "language_info": {
      "name": "python"
    }
  },
  "cells": [
    {
      "cell_type": "markdown",
      "metadata": {
        "id": "view-in-github",
        "colab_type": "text"
      },
      "source": [
        "<a href=\"https://colab.research.google.com/github/toled0code0/Tranalhos_estudos_facu/blob/main/atv05_09.ipynb\" target=\"_parent\"><img src=\"https://colab.research.google.com/assets/colab-badge.svg\" alt=\"Open In Colab\"/></a>"
      ]
    },
    {
      "cell_type": "code",
      "execution_count": null,
      "metadata": {
        "colab": {
          "base_uri": "https://localhost:8080/"
        },
        "id": "lOkzY9ryArBG",
        "outputId": "adfa7df5-76a2-4752-8bc4-e714065b578c"
      },
      "outputs": [
        {
          "output_type": "stream",
          "name": "stdout",
          "text": [
            "digite o valor de a: 7\n",
            "digite o valor de b: 6\n",
            "1.1666666666666667\n",
            "42\n",
            "1\n"
          ]
        }
      ],
      "source": [
        "a = int(input('digite o valor de a: '))\n",
        "b = int(input('digite o valor de b: '))\n",
        "\n",
        "def retornardivisao(a,b):\n",
        "  resultadodiv = a/b\n",
        "  return resultadodiv\n",
        "def retornarmultiplicao(a,b):\n",
        "  resultadomulti = a*b\n",
        "  return resultadomulti\n",
        "def retornarsubtracao(a,b):\n",
        "  resultadosub = a-b\n",
        "  return resultadosub\n",
        "print(retornardivisao(a,b))\n",
        "print(retornarmultiplicao(a,b))\n",
        "print(retornarsubtracao(a,b))\n",
        "\n"
      ]
    },
   
      "metadata": {
        "colab": {
          "base_uri": "https://localhost:8080/"
        },
        "id": "B5cKhknlRYwu",
        "outputId": "53cf4544-8722-4958-897e-5067bf1a610a"
      },
      "execution_count": null,
      "outputs": [
        {
          "output_type": "stream",
          "name": "stdout",
          "text": [
            " Digite o numero que voce deseja fatorar:  15\n",
            "1.0\n"
          ]
        }
      ]
    },
    {
      "cell_type": "code",
      "source": [],
      "metadata": {
        "id": "v4awicreoJsr"
      },
      "execution_count": null,
      "outputs": []
    },
    {
      "cell_type": "code",
      "source": [
        "#2questão\n",
        "valor_da_conta = float(input(\"Digite o valor total da conta: \"))\n",
        "porcentagem = 10\n",
        "def gorgeta(valor_da_conta,porcentagem):\n",
        "    resultadogorgeta = (valor_da_conta*porcentagem)/100\n",
        "    return resultadogorgeta\n",
        "print(gorgeta(valor_da_conta,porcentagem))\n"
      ],
      "metadata": {
        "id": "4QARV2h9cKsW"
      },
      "execution_count": null,
      "outputs": []
    },
    {
      "cell_type": "code",
      "source": [
        "valor_f = int(input(\"Digite o valor de a: \"))\n",
        "def conversao(valor_f):\n",
        "    c=(5/9)*(valor_f-32)\n",
        "    return c\n",
        "print(conversao(valor_f))"
      ],
      "metadata": {
        "id": "JOkY6K1qf0-b"
      },
      "execution_count": null,
      "outputs": []
    },
    {
      "cell_type": "code",
      "source": [
        "palavra = (input(\"Digite uma palavra: \"))\n",
        "letra_escolhida = (input(\"Digite uma letra: \"))\n",
        "def contador_de_letra(palavra,letra_escolhida):\n",
        "    resultado = palavra .count(letra_escolhida)\n",
        "    return resultado\n",
        "print(contador_de_letra(palavra,letra_escolhida))"
      ],
      "metadata": {
        "id": "ZoDn1y24jkwv"
      },
      "execution_count": null,
      "outputs": []
    }
  ]
}
