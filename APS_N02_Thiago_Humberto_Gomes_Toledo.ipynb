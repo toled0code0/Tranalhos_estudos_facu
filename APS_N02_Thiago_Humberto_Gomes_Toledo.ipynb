{
  "nbformat": 4,
  "nbformat_minor": 0,
  "metadata": {
    "colab": {
      "provenance": [],
      "authorship_tag": "ABX9TyMi+nEORRc6Oodwut/RCouq",
      "include_colab_link": true
    },
    "kernelspec": {
      "name": "python3",
      "display_name": "Python 3"
    },
    "language_info": {
      "name": "python"
    }
  },
  "cells": [
    {
      "cell_type": "markdown",
      "metadata": {
        "id": "view-in-github",
        "colab_type": "text"
      },
      "source": [
        "<a href=\"https://colab.research.google.com/github/toled0code0/Tranalhos_estudos_facu/blob/main/APS_N02_Thiago_Humberto_Gomes_Toledo.ipynb\" target=\"_parent\"><img src=\"https://colab.research.google.com/assets/colab-badge.svg\" alt=\"Open In Colab\"/></a>"
      ]
    },
    {
      "cell_type": "code",
      "execution_count": null,
      "metadata": {
        "id": "yCj2bTYC7fVR"
      },
      "outputs": [],
      "source": [
        "#questão1\n",
        "dicionarioJogos = {'Wolrd of Warcraft': '2004', 'Diablo' : '1996', 'The Witcher 3 : Wild Hunt':'2015', 'Genshin Impact':'2020','Fortnite':'2017', 'League of Legends':'2009','Valorant':'2019','Among Us':'2018','The Need For Speed':'1994'}\n",
        "dicionarioJogosNovo = {'Ragnarök':'2002'}\n",
        "dicionarioJogos ['valorant'] ='2020'\n",
        "dicionarioJogos.update(dicionarioJogosNovo)\n",
        "print(dicionarioJogos)"
      ]
    }
  ]
}