{
  "cells": [
    {
      "cell_type": "markdown",
      "metadata": {
        "id": "view-in-github",
        "colab_type": "text"
      },
      "source": [
        "<a href=\"https://colab.research.google.com/github/toled0code0/Tranalhos_estudos_facu/blob/main/atv12_quest4_3.ipynb\" target=\"_parent\"><img src=\"https://colab.research.google.com/assets/colab-badge.svg\" alt=\"Open In Colab\"/></a>"
      ]
    },
    {
      "cell_type": "code",
      "source": [
        "#qustao4\n",
        "dicionario_selecao = {'BRA':'Brasil', 'EUA':'Estados Unidos','FRA':'França','CN':'China','AR':'Argentina','EG':'Egito'}\n",
        "dicionario_selecao_nova = {'ESP':'Espanha'}\n",
        "dicionario_selecao.update(dicionario_selecao_nova)\n",
        "del dicionario_selecao['FRA']\n",
        "print(dicionario_selecao)\n"
      ],
      "metadata": {
        "id": "g1LmZOfmmYEB",
        "colab": {
          "base_uri": "https://localhost:8080/"
        },
        "outputId": "5b9f0553-71c7-468e-ad0d-2bdd1ef5d285"
      },
      "execution_count": null,
      "outputs": [
        {
          "output_type": "stream",
          "name": "stdout",
          "text": [
            "{'BRA': 'Brasil', 'EUA': 'Estados Unidos', 'CN': 'China', 'AR': 'Argentina', 'EG': 'Egito', 'ESP': 'Espanha'}\n"
          ]
        }
      ]
    },
    {
      "cell_type": "code",
      "source": [
        " #questão3\n",
        "dicionarioAgendaTelefonica = {'Marina' : '91202-1230','Yan':'12345-6789','Ana':'98765-4321','Pedro':'98987-5462','Maria':'98820-6541','Carla':'91234-5678','José':'' }\n",
        "dicionarioAgendaTelefonicaNova = {'José':'93400-2143'}\n",
        "dicionarioAgendaTelefonica.update(dicionarioAgendaTelefonicaNova)\n",
        "dicionarioAgendaTelefonicaNova1 = {'Ana': '21345-2142'}\n",
        "dicionarioAgendaTelefonica.update(dicionarioAgendaTelefonicaNova1)\n",
        "dicionarioAgendaTelefonica.pop ('Maria','98820-6541')\n",
        "print(dicionarioAgendaTelefonica)"
      ],
      "metadata": {
        "id": "Y4V1DMGIiH64",
        "outputId": "11d2a408-cc9f-4d31-d8ed-3401caeb913c",
        "colab": {
          "base_uri": "https://localhost:8080/"
        }
      },
      "execution_count": null,
      "outputs": [
        {
          "output_type": "stream",
          "name": "stdout",
          "text": [
            "{'Marina': '91202-1230', 'Yan': '12345-6789', 'Ana': '21345-2142', 'Pedro': '98987-5462', 'Carla': '91234-5678', 'José': '93400-2143'}\n"
          ]
        }
      ]
    }
  ],
  "metadata": {
    "colab": {
      "collapsed_sections": [],
      "provenance": [],
      "include_colab_link": true
    },
    "kernelspec": {
      "display_name": "Python 3",
      "name": "python3"
    }
  },
  "nbformat": 4,
  "nbformat_minor": 0
}